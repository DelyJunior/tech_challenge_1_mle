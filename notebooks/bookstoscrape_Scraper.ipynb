{
 "cells": [
  {
   "cell_type": "code",
   "execution_count": null,
   "id": "1bd86387",
   "metadata": {},
   "outputs": [],
   "source": [
    "import pandas as pd\n",
    "import numpy as np\n",
    "import random\n",
    "import time\n",
    "import re\n",
    "import warnings\n",
    "from datetime import date\n",
    "import datetime as dt\n",
    "import sqlite3\n",
    "from selenium import webdriver\n",
    "from selenium.webdriver.common.by import By\n",
    "from selenium.webdriver.common.keys import Keys\n",
    "from selenium.webdriver.support.ui import WebDriverWait\n",
    "from selenium.webdriver.support import expected_conditions as EC\n",
    "from selenium.webdriver.chrome.service import Service\n",
    "from selenium.webdriver.chrome.options import Options\n",
    "from selenium.common.exceptions import NoSuchElementException\n",
    "import os\n",
    "\n",
    "\n",
    "from webdriver_manager.chrome import ChromeDriverManager\n",
    "from fuzzywuzzy import fuzz\n",
    "from tqdm import tqdm\n",
    "\n",
    "warnings.filterwarnings(\"ignore\")\n",
    "\n",
    "# Configura o driver do Chrome\n",
    "chrome_options = Options()\n",
    "# chrome_options.add_argument(\"--headless\")  # descomente se quiser rodar sem abrir a janela\n",
    "\n"
   ]
  },
  {
   "cell_type": "code",
   "execution_count": 14,
   "id": "807da4cf",
   "metadata": {},
   "outputs": [],
   "source": [
    "driver = webdriver.Chrome()"
   ]
  },
  {
   "cell_type": "code",
   "execution_count": 15,
   "id": "c9544d96",
   "metadata": {},
   "outputs": [],
   "source": [
    "start_url = \"https://books.toscrape.com/\"\n",
    "driver.get(start_url)"
   ]
  },
  {
   "cell_type": "code",
   "execution_count": 16,
   "id": "ab048532",
   "metadata": {},
   "outputs": [
    {
     "name": "stdout",
     "output_type": "stream",
     "text": [
      "Coletando links da página: 1\n",
      "Coletando links da página: 2\n",
      "Coletando links da página: 3\n",
      "Coletando links da página: 4\n",
      "Coletando links da página: 5\n",
      "Coletando links da página: 6\n",
      "Coletando links da página: 7\n",
      "Coletando links da página: 8\n",
      "Coletando links da página: 9\n",
      "Coletando links da página: 10\n",
      "Coletando links da página: 11\n",
      "Coletando links da página: 12\n",
      "Coletando links da página: 13\n",
      "Coletando links da página: 14\n",
      "Coletando links da página: 15\n",
      "Coletando links da página: 16\n",
      "Coletando links da página: 17\n",
      "Coletando links da página: 18\n",
      "Coletando links da página: 19\n",
      "Coletando links da página: 20\n",
      "Coletando links da página: 21\n",
      "Coletando links da página: 22\n",
      "Coletando links da página: 23\n",
      "Coletando links da página: 24\n",
      "Coletando links da página: 25\n",
      "Coletando links da página: 26\n",
      "Coletando links da página: 27\n",
      "Coletando links da página: 28\n",
      "Coletando links da página: 29\n",
      "Coletando links da página: 30\n",
      "Coletando links da página: 31\n",
      "Coletando links da página: 32\n",
      "Coletando links da página: 33\n",
      "Coletando links da página: 34\n",
      "Coletando links da página: 35\n",
      "Coletando links da página: 36\n",
      "Coletando links da página: 37\n",
      "Coletando links da página: 38\n",
      "Coletando links da página: 39\n",
      "Coletando links da página: 40\n",
      "Coletando links da página: 41\n",
      "Coletando links da página: 42\n",
      "Coletando links da página: 43\n",
      "Coletando links da página: 44\n",
      "Coletando links da página: 45\n",
      "Coletando links da página: 46\n",
      "Coletando links da página: 47\n",
      "Coletando links da página: 48\n",
      "Coletando links da página: 49\n",
      "Coletando links da página: 50\n",
      "Chegamos na última página. Fim da coleta de links.\n"
     ]
    }
   ],
   "source": [
    "all_book_links = []\n",
    "page_count = 1\n",
    "\n",
    "# --- Loop para navegar por todas as páginas (lógica similar) ---\n",
    "while True:\n",
    "    print(f\"Coletando links da página: {page_count}\")\n",
    "\n",
    "    # Encontra todos os \"cards\" de livros na página atual\n",
    "    books = driver.find_elements(By.CLASS_NAME, \"product_pod\")\n",
    "\n",
    "    # --- Loop para extrair o link de cada livro na página ---\n",
    "    for book in books:\n",
    "        try:\n",
    "            # >>> MUDANÇA: Encontramos a tag 'a' dentro do 'h3' e pegamos o atributo 'href'\n",
    "            link_element = book.find_element(By.TAG_NAME, \"h3\").find_element(By.TAG_NAME, \"a\")\n",
    "            link = link_element.get_attribute(\"href\")\n",
    "            all_book_links.append(link)\n",
    "        except Exception as e:\n",
    "            print(f\"Erro ao extrair o link de um livro: {e}\")\n",
    "            continue\n",
    "\n",
    "    # --- Lógica de Paginação (sem alterações) ---\n",
    "    try:\n",
    "        # Procura pelo botão \"Next\"\n",
    "        next_button = driver.find_element(By.CLASS_NAME, \"next\")\n",
    "        next_button.find_element(By.TAG_NAME, \"a\").click()\n",
    "        page_count += 1\n",
    "        time.sleep(3) # Pequena pausa para o carregamento da página\n",
    "    except NoSuchElementException:\n",
    "        # Se não encontrar o botão \"Next\", saímos do loop\n",
    "        print(\"Chegamos na última página. Fim da coleta de links.\")\n",
    "        break"
   ]
  },
  {
   "cell_type": "code",
   "execution_count": 17,
   "id": "711e36b9",
   "metadata": {},
   "outputs": [],
   "source": [
    "rating_map = {\n",
    "    \"One\": 1.0,\n",
    "    \"Two\": 2.0,\n",
    "    \"Three\": 3.0,\n",
    "    \"Four\": 4.0,\n",
    "    \"Five\": 5.0\n",
    "}\n"
   ]
  },
  {
   "cell_type": "code",
   "execution_count": null,
   "id": "99fccb55",
   "metadata": {},
   "outputs": [],
   "source": []
  },
  {
   "cell_type": "code",
   "execution_count": 18,
   "id": "e77a7a73",
   "metadata": {},
   "outputs": [
    {
     "name": "stderr",
     "output_type": "stream",
     "text": [
      "100%|██████████| 1000/1000 [43:04<00:00,  2.58s/it]\n"
     ]
    }
   ],
   "source": [
    "all_books_details = []\n",
    "\n",
    "for url in tqdm(all_book_links):\n",
    "    \n",
    "    driver.get(url)\n",
    "    time.sleep(2)\n",
    "    try:\n",
    "        # Extrai as informações\n",
    "        title = driver.find_element(By.TAG_NAME, \"h1\").text\n",
    "        price = driver.find_element(By.CLASS_NAME, \"price_color\").text\n",
    "        try:\n",
    "            # Remove o '£' e converte para float\n",
    "            price_float = float(price.replace('£', ''))\n",
    "        except ValueError:\n",
    "            price_float = 0.0 # Valor padrão em caso de erro    \n",
    "            \n",
    "            \n",
    "            \n",
    "        # Disponibilidade: 'In stock (22 available)' -> extrai apenas o texto\n",
    "        availability = driver.find_element(By.CLASS_NAME, \"instock.availability\").text\n",
    "        match = re.search(r'\\d+', availability)\n",
    "        if match:\n",
    "            availability_int = int(match.group(0))\n",
    "        else:\n",
    "            availability_int = 0 # Valor padrão se não encontrar número\n",
    "            \n",
    "            \n",
    "        # Rating: A classe é 'star-rating Five', pegamos a segunda parte 'Five'\n",
    "        rating_element = driver.find_element(By.CSS_SELECTOR, \"p.star-rating\")\n",
    "        rating = rating_element.get_attribute(\"class\").replace(\"star-rating \", \"\")\n",
    "        rating_float = rating_map.get(rating, 0.0)\n",
    "        \n",
    "        # Categoria: Usa XPath para encontrar o terceiro item da lista de breadcrumb\n",
    "        category = driver.find_element(By.XPATH, \"//ul[@class='breadcrumb']/li[3]/a\").text\n",
    "\n",
    "        # Imagem: Pega o src e junta com a URL base\n",
    "        image_relative_url = driver.find_element(By.CSS_SELECTOR, \"div.item.active img\").get_attribute(\"src\")\n",
    "        image_url = image_relative_url.replace(\"../..\", \"https://books.toscrape.com\")\n",
    "\n",
    "\n",
    "        # Adiciona os dados a uma lista de dicionários\n",
    "        all_books_details.append({\n",
    "            \"titulo\": title,\n",
    "            \"preço\": price_float,\n",
    "            \"rating\": rating_float,\n",
    "            \"disponibilidade\": availability_int,\n",
    "            \"categoria\": category,\n",
    "            \"imagem\": image_url,\n",
    "            \"url_livro\": url\n",
    "        })\n",
    "\n",
    "        # Pequena pausa para não sobrecarregar o servidor\n",
    "        # time.sleep(0.5) \n",
    "\n",
    "    except Exception as e:\n",
    "        print(f\"  -> Erro ao extrair dados da URL {url}: {e}\")\n",
    "        continue\n",
    "    "
   ]
  },
  {
   "cell_type": "code",
   "execution_count": null,
   "id": "398b111a",
   "metadata": {},
   "outputs": [],
   "source": [
    "df = pd.DataFrame(all_books_details)\n",
    "\n"
   ]
  },
  {
   "cell_type": "code",
   "execution_count": 37,
   "id": "c29ec86d",
   "metadata": {},
   "outputs": [
    {
     "name": "stdout",
     "output_type": "stream",
     "text": [
      "CSV salvo em: c:\\Users\\delyj\\Documents\\Fiap\\PÓS TECH ML ENGINEERING\\FASE 1\\Trabalho em grupo\\tech-challengev2\\tech_challenge_1_mle\\data\\books_details.csv\n"
     ]
    }
   ],
   "source": [
    "\n",
    "# Diretório do notebook\n",
    "notebook_dir = os.getcwd()\n",
    "\n",
    "# Caminho correto para a pasta data no diretório principal\n",
    "data_dir = os.path.join(notebook_dir, \"..\", \"data\")\n",
    "os.makedirs(data_dir, exist_ok=True)  # garante que a pasta exista\n",
    "\n",
    "# Caminho completo do CSV\n",
    "csv_path = os.path.join(data_dir, \"books_details.csv\")\n",
    "\n",
    "# Salva o DataFrame\n",
    "df.to_csv(csv_path, index=False)\n",
    "\n",
    "print(f\"CSV salvo em: {os.path.abspath(csv_path)}\")\n"
   ]
  },
  {
   "cell_type": "code",
   "execution_count": 38,
   "id": "652c943e",
   "metadata": {},
   "outputs": [],
   "source": [
    "NOME_DO_BANCO = 'challenge1.sqlite'\n",
    "NOME_DA_TABELA = 'books_details'"
   ]
  },
  {
   "cell_type": "code",
   "execution_count": 39,
   "id": "848cbeef",
   "metadata": {},
   "outputs": [
    {
     "name": "stdout",
     "output_type": "stream",
     "text": [
      "Banco salvo em: c:\\Users\\delyj\\Documents\\Fiap\\PÓS TECH ML ENGINEERING\\FASE 1\\Trabalho em grupo\\tech-challengev2\\tech_challenge_1_mle\\data\\challenge1.sqlite\n"
     ]
    }
   ],
   "source": [
    "\n",
    "\n",
    "# Diretório do notebook\n",
    "notebook_dir = os.getcwd()\n",
    "\n",
    "# Caminho correto para o banco na pasta data do projeto\n",
    "data_dir = os.path.join(notebook_dir, \"..\", \"data\")\n",
    "os.makedirs(data_dir, exist_ok=True)  # cria a pasta caso não exista\n",
    "\n",
    "# Caminho completo do banco\n",
    "db_path = os.path.join(data_dir, NOME_DO_BANCO)\n",
    "\n",
    "# Conecta ao banco\n",
    "conn = sqlite3.connect(db_path)\n",
    "\n",
    "# Salva o DataFrame na tabela (substituindo se já existir)\n",
    "df.to_sql(NOME_DA_TABELA, conn, if_exists='replace', index=False)\n",
    "\n",
    "# Fecha a conexão\n",
    "conn.close()\n",
    "\n",
    "print(f\"Banco salvo em: {os.path.abspath(db_path)}\")"
   ]
  },
  {
   "cell_type": "code",
   "execution_count": null,
   "id": "cb8916f8",
   "metadata": {},
   "outputs": [],
   "source": []
  },
  {
   "cell_type": "code",
   "execution_count": null,
   "id": "c5e67f38",
   "metadata": {},
   "outputs": [],
   "source": []
  },
  {
   "cell_type": "code",
   "execution_count": null,
   "id": "f907ff7c",
   "metadata": {},
   "outputs": [],
   "source": []
  },
  {
   "cell_type": "code",
   "execution_count": null,
   "id": "a1667c39",
   "metadata": {},
   "outputs": [],
   "source": []
  },
  {
   "cell_type": "code",
   "execution_count": null,
   "id": "e6140216",
   "metadata": {},
   "outputs": [],
   "source": []
  }
 ],
 "metadata": {
  "kernelspec": {
   "display_name": "venv (3.12.4)",
   "language": "python",
   "name": "python3"
  },
  "language_info": {
   "codemirror_mode": {
    "name": "ipython",
    "version": 3
   },
   "file_extension": ".py",
   "mimetype": "text/x-python",
   "name": "python",
   "nbconvert_exporter": "python",
   "pygments_lexer": "ipython3",
   "version": "3.12.4"
  }
 },
 "nbformat": 4,
 "nbformat_minor": 5
}
